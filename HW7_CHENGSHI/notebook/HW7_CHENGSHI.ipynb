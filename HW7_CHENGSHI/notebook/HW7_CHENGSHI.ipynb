{
 "cells": [
  {
   "cell_type": "markdown",
   "id": "805bd185",
   "metadata": {},
   "source": [
    "Cheng Shi; USCID: 8556138235; Github:CaronShi\n"
   ]
  },
  {
   "cell_type": "code",
   "execution_count": 152,
   "id": "c1f332cd",
   "metadata": {},
   "outputs": [],
   "source": [
    "import pandas as pd\n",
    "import numpy as np\n",
    "import matplotlib.pyplot as plt\n",
    "import seaborn as sns\n",
    "from sklearn.svm import SVC, LinearSVC\n",
    "from sklearn.model_selection import cross_val_score, KFold, GridSearchCV\n",
    "from sklearn import preprocessing\n",
    "from sklearn.model_selection import train_test_split\n",
    "from sklearn import preprocessing\n",
    "from sklearn.preprocessing import StandardScaler\n",
    "from sklearn.cluster import KMeans"
   ]
  },
  {
   "cell_type": "markdown",
   "id": "ce5d68b7",
   "metadata": {},
   "source": [
    "(a) randomly select 70%"
   ]
  },
  {
   "cell_type": "code",
   "execution_count": 2,
   "id": "8578ab38",
   "metadata": {
    "scrolled": true
   },
   "outputs": [
    {
     "name": "stdout",
     "output_type": "stream",
     "text": [
      "(5036, 3) (7195, 26)\n"
     ]
    }
   ],
   "source": [
    "df = pd.read_csv(\"../Anuran Calls (MFCCs)/Frogs_MFCCs.csv\")\n",
    "x = df.iloc[:, :22]\n",
    "y = df.iloc[:, 22:-1]\n",
    "x_train, x_test, y_train, y_test = train_test_split(x, y, test_size = 0.3, random_state = 42)\n",
    "print(y_train.shape,df.shape)"
   ]
  },
  {
   "cell_type": "markdown",
   "id": "975c7cbe",
   "metadata": {},
   "source": [
    "(b)Each instance has three labels: Families, Genus, and Species. \n",
    "\n",
    "Each of the labelshas multiple classes. We wish to solve a multi-class and multi-label problem. One of the most important approaches to multi-label classification is to train aclassifier for each label (binary relevance). We first try this approach"
   ]
  },
  {
   "cell_type": "markdown",
   "id": "cedf5726",
   "metadata": {},
   "source": [
    "i.Research exact match and hamming score/ loss methods for evaluating multi-label classification and use them in evaluating the classifiers in this problem."
   ]
  },
  {
   "cell_type": "markdown",
   "id": "06182a4c",
   "metadata": {},
   "source": [
    "reference: https://mmuratarat.github.io/2020-01-25/multilabel_classification_metrics\n",
    "\n",
    "The exact match score: is the sum of all of the individual exact match scores in the set, divided by the total number of predictions in the set. \n",
    "\n",
    "The exact match 0/1 loss: calculates proportions of instances whose actual value is not equal to predicted value. \n",
    "\n",
    "Hamming score: is the number of correct predictions divided by total number of predictions\n",
    "\n",
    "Hamming loss: takes into account the prediction error (an incorrect label is predicted) and missing error (a relevant label not predicted), normalized over total number of classes and total number of examples."
   ]
  },
  {
   "cell_type": "markdown",
   "id": "f848831a",
   "metadata": {},
   "source": [
    "i.Train a SVM for each of the labels, using Gaussian kernels and one versus all classifiers. Determine the weight of the SVM penalty and the width of the Gaussian Kernel using 10 fold cross validation. You are welcome to tryto solve the problem with both standardized and raw attributes and reportthe results."
   ]
  },
  {
   "cell_type": "code",
   "execution_count": 3,
   "id": "25f60c63",
   "metadata": {},
   "outputs": [],
   "source": [
    "#SVM for label 1 \n",
    "#SVM for label 2\n",
    "#SVM for label 3\n",
    "\n",
    "def SVM_model(xtrain,ytrain):\n",
    "    c =np.logspace(-3,6,5)\n",
    "    gamma = np.linspace(0.1,2,5)\n",
    "    param_grid = {'C':c,'gamma': gamma}\n",
    "    svc = SVC()\n",
    "    clf = GridSearchCV(svc, param_grid,cv=10)\n",
    "    clf.fit(xtrain,ytrain)\n",
    "    return clf"
   ]
  },
  {
   "cell_type": "code",
   "execution_count": 4,
   "id": "a91a7c5c",
   "metadata": {},
   "outputs": [
    {
     "name": "stdout",
     "output_type": "stream",
     "text": [
      "best_parameters: {'C': 31.622776601683793, 'gamma': 2.0} score: 0.9932488402915839\n",
      "predict: ['Leptodactylidae' 'Hylidae' 'Hylidae' ... 'Leptodactylidae'\n",
      " 'Leptodactylidae' 'Leptodactylidae']\n"
     ]
    }
   ],
   "source": [
    "#Family\n",
    "clf = SVM_model(x_train,y_train[\"Family\"])\n",
    "#find best c and gamma\n",
    "best_para = clf.best_params_\n",
    "bestg = best_para['gamma']\n",
    "bestc = best_para['C']\n",
    "#use best c and gamma fit svc model and predict y\n",
    "svm_best = SVC(kernel=\"rbf\", C=bestc, gamma=bestg).fit(x_train,y_train[\"Family\"])\n",
    "best_score = clf.best_score_\n",
    "y_predict = svm_best.predict(x_test)\n",
    "print(\"best_parameters:\", best_para, \"score:\",best_score)\n",
    "print(\"predict:\",y_predict)"
   ]
  },
  {
   "cell_type": "code",
   "execution_count": 5,
   "id": "054c79c8",
   "metadata": {
    "scrolled": true
   },
   "outputs": [
    {
     "name": "stdout",
     "output_type": "stream",
     "text": [
      "best_parameters: {'C': 31.622776601683793, 'gamma': 1.525} score: 0.9908647322414719\n",
      "predict: ['Adenomera' 'Hypsiboas' 'Hypsiboas' ... 'Adenomera' 'Adenomera'\n",
      " 'Adenomera']\n"
     ]
    }
   ],
   "source": [
    "#Genus\n",
    "clf = SVM_model(x_train,y_train[\"Genus\"])\n",
    "#find best c and gamma\n",
    "best_para = clf.best_params_\n",
    "bestg = best_para['gamma']\n",
    "bestc = best_para['C']\n",
    "#use best c and gamma fit svc model and predict y\n",
    "svm_best = SVC(kernel=\"rbf\", C=bestc, gamma=bestg).fit(x_train,y_train[\"Genus\"])\n",
    "best_score = clf.best_score_\n",
    "y_predict_Genus = svm_best.predict(x_test)\n",
    "print(\"best_parameters:\", best_para, \"score:\",best_score)\n",
    "print(\"predict:\",y_predict_Genus)"
   ]
  },
  {
   "cell_type": "code",
   "execution_count": 6,
   "id": "deaf9c83",
   "metadata": {},
   "outputs": [
    {
     "name": "stdout",
     "output_type": "stream",
     "text": [
      "best_parameters: {'C': 31.622776601683793, 'gamma': 1.525} score: 0.9902687052289437\n",
      "predict: ['AdenomeraHylaedactylus' 'HypsiboasCinerascens' 'HypsiboasCordobae' ...\n",
      " 'AdenomeraHylaedactylus' 'AdenomeraHylaedactylus'\n",
      " 'AdenomeraHylaedactylus']\n"
     ]
    }
   ],
   "source": [
    "##Species\n",
    "clf = SVM_model(x_train,y_train[\"Species\"])\n",
    "#find best c and gamma\n",
    "best_para = clf.best_params_\n",
    "bestg = best_para['gamma']\n",
    "bestc = best_para['C']\n",
    "#use best c and gamma fit svc model and predict y\n",
    "svm_best = SVC(kernel=\"rbf\", C=bestc, gamma=bestg).fit(x_train,y_train[\"Species\"])\n",
    "best_score = clf.best_score_\n",
    "y_predict_Species = svm_best.predict(x_test)\n",
    "print(\"best_parameters:\", best_para, \"score:\",best_score)\n",
    "print(\"predict:\",y_predict_Species)"
   ]
  },
  {
   "cell_type": "code",
   "execution_count": 7,
   "id": "260428aa",
   "metadata": {},
   "outputs": [
    {
     "data": {
      "text/html": [
       "<div>\n",
       "<style scoped>\n",
       "    .dataframe tbody tr th:only-of-type {\n",
       "        vertical-align: middle;\n",
       "    }\n",
       "\n",
       "    .dataframe tbody tr th {\n",
       "        vertical-align: top;\n",
       "    }\n",
       "\n",
       "    .dataframe thead th {\n",
       "        text-align: right;\n",
       "    }\n",
       "</style>\n",
       "<table border=\"1\" class=\"dataframe\">\n",
       "  <thead>\n",
       "    <tr style=\"text-align: right;\">\n",
       "      <th></th>\n",
       "      <th>Family</th>\n",
       "      <th>Genus</th>\n",
       "      <th>Species</th>\n",
       "    </tr>\n",
       "  </thead>\n",
       "  <tbody>\n",
       "    <tr>\n",
       "      <th>0</th>\n",
       "      <td>Leptodactylidae</td>\n",
       "      <td>Adenomera</td>\n",
       "      <td>AdenomeraHylaedactylus</td>\n",
       "    </tr>\n",
       "    <tr>\n",
       "      <th>1</th>\n",
       "      <td>Hylidae</td>\n",
       "      <td>Hypsiboas</td>\n",
       "      <td>HypsiboasCinerascens</td>\n",
       "    </tr>\n",
       "    <tr>\n",
       "      <th>2</th>\n",
       "      <td>Hylidae</td>\n",
       "      <td>Hypsiboas</td>\n",
       "      <td>HypsiboasCordobae</td>\n",
       "    </tr>\n",
       "    <tr>\n",
       "      <th>3</th>\n",
       "      <td>Leptodactylidae</td>\n",
       "      <td>Adenomera</td>\n",
       "      <td>AdenomeraHylaedactylus</td>\n",
       "    </tr>\n",
       "    <tr>\n",
       "      <th>4</th>\n",
       "      <td>Leptodactylidae</td>\n",
       "      <td>Adenomera</td>\n",
       "      <td>AdenomeraHylaedactylus</td>\n",
       "    </tr>\n",
       "    <tr>\n",
       "      <th>...</th>\n",
       "      <td>...</td>\n",
       "      <td>...</td>\n",
       "      <td>...</td>\n",
       "    </tr>\n",
       "    <tr>\n",
       "      <th>2154</th>\n",
       "      <td>Leptodactylidae</td>\n",
       "      <td>Adenomera</td>\n",
       "      <td>AdenomeraHylaedactylus</td>\n",
       "    </tr>\n",
       "    <tr>\n",
       "      <th>2155</th>\n",
       "      <td>Leptodactylidae</td>\n",
       "      <td>Adenomera</td>\n",
       "      <td>AdenomeraAndre</td>\n",
       "    </tr>\n",
       "    <tr>\n",
       "      <th>2156</th>\n",
       "      <td>Leptodactylidae</td>\n",
       "      <td>Adenomera</td>\n",
       "      <td>AdenomeraHylaedactylus</td>\n",
       "    </tr>\n",
       "    <tr>\n",
       "      <th>2157</th>\n",
       "      <td>Leptodactylidae</td>\n",
       "      <td>Adenomera</td>\n",
       "      <td>AdenomeraHylaedactylus</td>\n",
       "    </tr>\n",
       "    <tr>\n",
       "      <th>2158</th>\n",
       "      <td>Leptodactylidae</td>\n",
       "      <td>Adenomera</td>\n",
       "      <td>AdenomeraHylaedactylus</td>\n",
       "    </tr>\n",
       "  </tbody>\n",
       "</table>\n",
       "<p>2159 rows × 3 columns</p>\n",
       "</div>"
      ],
      "text/plain": [
       "               Family      Genus                 Species\n",
       "0     Leptodactylidae  Adenomera  AdenomeraHylaedactylus\n",
       "1             Hylidae  Hypsiboas    HypsiboasCinerascens\n",
       "2             Hylidae  Hypsiboas       HypsiboasCordobae\n",
       "3     Leptodactylidae  Adenomera  AdenomeraHylaedactylus\n",
       "4     Leptodactylidae  Adenomera  AdenomeraHylaedactylus\n",
       "...               ...        ...                     ...\n",
       "2154  Leptodactylidae  Adenomera  AdenomeraHylaedactylus\n",
       "2155  Leptodactylidae  Adenomera          AdenomeraAndre\n",
       "2156  Leptodactylidae  Adenomera  AdenomeraHylaedactylus\n",
       "2157  Leptodactylidae  Adenomera  AdenomeraHylaedactylus\n",
       "2158  Leptodactylidae  Adenomera  AdenomeraHylaedactylus\n",
       "\n",
       "[2159 rows x 3 columns]"
      ]
     },
     "execution_count": 7,
     "metadata": {},
     "output_type": "execute_result"
    }
   ],
   "source": [
    "d ={\"Family\":y_predict, \"Genus\":y_predict_Genus,\"Species\":y_predict_Species}\n",
    "df_y_predict= pd.DataFrame(data=d)\n",
    "df_y_predict"
   ]
  },
  {
   "cell_type": "code",
   "execution_count": 18,
   "id": "659e4eae",
   "metadata": {},
   "outputs": [
    {
     "data": {
      "text/html": [
       "<div>\n",
       "<style scoped>\n",
       "    .dataframe tbody tr th:only-of-type {\n",
       "        vertical-align: middle;\n",
       "    }\n",
       "\n",
       "    .dataframe tbody tr th {\n",
       "        vertical-align: top;\n",
       "    }\n",
       "\n",
       "    .dataframe thead th {\n",
       "        text-align: right;\n",
       "    }\n",
       "</style>\n",
       "<table border=\"1\" class=\"dataframe\">\n",
       "  <thead>\n",
       "    <tr style=\"text-align: right;\">\n",
       "      <th></th>\n",
       "      <th>Family</th>\n",
       "      <th>Genus</th>\n",
       "      <th>Species</th>\n",
       "    </tr>\n",
       "  </thead>\n",
       "  <tbody>\n",
       "    <tr>\n",
       "      <th>0</th>\n",
       "      <td>Leptodactylidae</td>\n",
       "      <td>Adenomera</td>\n",
       "      <td>AdenomeraHylaedactylus</td>\n",
       "    </tr>\n",
       "    <tr>\n",
       "      <th>1</th>\n",
       "      <td>Hylidae</td>\n",
       "      <td>Hypsiboas</td>\n",
       "      <td>HypsiboasCinerascens</td>\n",
       "    </tr>\n",
       "    <tr>\n",
       "      <th>2</th>\n",
       "      <td>Hylidae</td>\n",
       "      <td>Hypsiboas</td>\n",
       "      <td>HypsiboasCordobae</td>\n",
       "    </tr>\n",
       "    <tr>\n",
       "      <th>3</th>\n",
       "      <td>Leptodactylidae</td>\n",
       "      <td>Adenomera</td>\n",
       "      <td>AdenomeraHylaedactylus</td>\n",
       "    </tr>\n",
       "    <tr>\n",
       "      <th>4</th>\n",
       "      <td>Leptodactylidae</td>\n",
       "      <td>Adenomera</td>\n",
       "      <td>AdenomeraHylaedactylus</td>\n",
       "    </tr>\n",
       "    <tr>\n",
       "      <th>...</th>\n",
       "      <td>...</td>\n",
       "      <td>...</td>\n",
       "      <td>...</td>\n",
       "    </tr>\n",
       "    <tr>\n",
       "      <th>2154</th>\n",
       "      <td>Leptodactylidae</td>\n",
       "      <td>Adenomera</td>\n",
       "      <td>AdenomeraHylaedactylus</td>\n",
       "    </tr>\n",
       "    <tr>\n",
       "      <th>2155</th>\n",
       "      <td>Leptodactylidae</td>\n",
       "      <td>Adenomera</td>\n",
       "      <td>AdenomeraAndre</td>\n",
       "    </tr>\n",
       "    <tr>\n",
       "      <th>2156</th>\n",
       "      <td>Leptodactylidae</td>\n",
       "      <td>Adenomera</td>\n",
       "      <td>AdenomeraHylaedactylus</td>\n",
       "    </tr>\n",
       "    <tr>\n",
       "      <th>2157</th>\n",
       "      <td>Leptodactylidae</td>\n",
       "      <td>Adenomera</td>\n",
       "      <td>AdenomeraHylaedactylus</td>\n",
       "    </tr>\n",
       "    <tr>\n",
       "      <th>2158</th>\n",
       "      <td>Leptodactylidae</td>\n",
       "      <td>Adenomera</td>\n",
       "      <td>AdenomeraHylaedactylus</td>\n",
       "    </tr>\n",
       "  </tbody>\n",
       "</table>\n",
       "<p>2159 rows × 3 columns</p>\n",
       "</div>"
      ],
      "text/plain": [
       "               Family      Genus                 Species\n",
       "0     Leptodactylidae  Adenomera  AdenomeraHylaedactylus\n",
       "1             Hylidae  Hypsiboas    HypsiboasCinerascens\n",
       "2             Hylidae  Hypsiboas       HypsiboasCordobae\n",
       "3     Leptodactylidae  Adenomera  AdenomeraHylaedactylus\n",
       "4     Leptodactylidae  Adenomera  AdenomeraHylaedactylus\n",
       "...               ...        ...                     ...\n",
       "2154  Leptodactylidae  Adenomera  AdenomeraHylaedactylus\n",
       "2155  Leptodactylidae  Adenomera          AdenomeraAndre\n",
       "2156  Leptodactylidae  Adenomera  AdenomeraHylaedactylus\n",
       "2157  Leptodactylidae  Adenomera  AdenomeraHylaedactylus\n",
       "2158  Leptodactylidae  Adenomera  AdenomeraHylaedactylus\n",
       "\n",
       "[2159 rows x 3 columns]"
      ]
     },
     "execution_count": 18,
     "metadata": {},
     "output_type": "execute_result"
    }
   ],
   "source": [
    "y_test.drop('index',axis=1)"
   ]
  },
  {
   "cell_type": "code",
   "execution_count": 68,
   "id": "8ce236fb",
   "metadata": {},
   "outputs": [
    {
     "name": "stdout",
     "output_type": "stream",
     "text": [
      "hamming loss: 0.008182800679326863 exact match: 0.9898100972672533\n"
     ]
    }
   ],
   "source": [
    "def hamming_match(y_test,df_y_predict):\n",
    "    hamming = 0\n",
    "    exact_match = 0\n",
    "\n",
    "    for index in range(len(y_test)):\n",
    "        if df_y_predict['Family'][index] == y_test['Family'][index] and df_y_predict['Genus'][index] == y_test['Genus'][index] and df_y_predict['Species'][index] == y_test['Species'][index]:   \n",
    "            exact_match +=1\n",
    "            hamming += 3 \n",
    "        elif df_y_predict['Family'][index] == y_test['Family'][index] or df_y_predict['Genus'][index] == y_test['Genus'][index] or df_y_predict['Species'][index] == y_test['Species'][index]:\n",
    "            hamming+=1\n",
    "    hamming_loss = 1- (hamming/(len(y_test)*3))\n",
    "    return hamming_loss, exact_match/len(y_test)\n",
    "    \n",
    "hamming_loss, exact_match =hamming_match(y_test,df_y_predict)\n",
    "print('hamming loss:', hamming_loss, 'exact match:',exact_match)"
   ]
  },
  {
   "cell_type": "markdown",
   "id": "72390315",
   "metadata": {},
   "source": [
    "ii.Repeat 1(b)ii with L1-penalized SVMs. Remember to standardize4the at-tributes. Determine the weight of the SVM penalty using 10 fold cross validation."
   ]
  },
  {
   "cell_type": "code",
   "execution_count": 47,
   "id": "b9146f09",
   "metadata": {},
   "outputs": [],
   "source": [
    "#data standardize\n",
    "x_train_scaler = StandardScaler().fit(x_train).transform(x_train)\n",
    "x_test_scaler = StandardScaler().fit(x_test).transform(x_test)\n",
    "#build model\n",
    "def SVM_L1(xtrain,ytrain):\n",
    "    c =np.logspace(-3,6,5)\n",
    "    param_grid = {'C':c}\n",
    "    svc = LinearSVC(penalty='l1',dual=False, random_state=42)\n",
    "    clf = GridSearchCV(estimator=svc, param_grid=param_grid , cv=10)\n",
    "    clf.fit(x_train,ytrain)\n",
    "    return clf"
   ]
  },
  {
   "cell_type": "code",
   "execution_count": 139,
   "id": "a6c5f614",
   "metadata": {},
   "outputs": [
    {
     "name": "stdout",
     "output_type": "stream",
     "text": [
      "best_parameters: {'C': 5623.413251903491} score: 0.9408280475874911\n",
      "predict: ['Leptodactylidae' 'Hylidae' 'Hylidae' ... 'Leptodactylidae'\n",
      " 'Leptodactylidae' 'Leptodactylidae']\n"
     ]
    }
   ],
   "source": [
    "import warnings\n",
    "warnings.filterwarnings('ignore')\n",
    "#Family\n",
    "clf = SVM_L1(x_train_scaler,y_train[\"Family\"])\n",
    "#find best c \n",
    "best_para = clf.best_params_\n",
    "bestc = best_para['C']\n",
    "#use best c fit svc model and predict y\n",
    "svm_best = SVC(kernel=\"rbf\", C=bestc).fit(x_train_scaler,y_train[\"Family\"])\n",
    "best_score = clf.best_score_\n",
    "y_predict_l1 = svm_best.predict(x_test_scaler)\n",
    "print(\"best_parameters:\", best_para, \"score:\",best_score)\n",
    "print(\"predict:\",y_predict_l1)"
   ]
  },
  {
   "cell_type": "code",
   "execution_count": 140,
   "id": "fdd81901",
   "metadata": {},
   "outputs": [
    {
     "name": "stdout",
     "output_type": "stream",
     "text": [
      "best_parameters: {'C': 31.622776601683793} score: 0.951351809776263\n",
      "predict: ['Adenomera' 'Hypsiboas' 'Hypsiboas' ... 'Adenomera' 'Adenomera'\n",
      " 'Adenomera']\n"
     ]
    }
   ],
   "source": [
    "#Genus\n",
    "clf = SVM_L1(x_train_scaler,y_train[\"Genus\"])\n",
    "#find best c \n",
    "best_para = clf.best_params_\n",
    "bestc = best_para['C']\n",
    "#use best c  fit svc model and predict y\n",
    "svm_best = SVC(kernel=\"rbf\", C=bestc).fit(x_train_scaler,y_train[\"Genus\"])\n",
    "best_score = clf.best_score_\n",
    "y_predict_Genus_l1 = svm_best.predict(x_test_scaler)\n",
    "print(\"best_parameters:\", best_para, \"score:\",best_score)\n",
    "print(\"predict:\",y_predict_Genus_l1)"
   ]
  },
  {
   "cell_type": "code",
   "execution_count": 141,
   "id": "2b5de4c0",
   "metadata": {},
   "outputs": [
    {
     "name": "stdout",
     "output_type": "stream",
     "text": [
      "best_parameters: {'C': 31.622776601683793} score: 0.9588950424437502\n",
      "predict: ['AdenomeraHylaedactylus' 'HypsiboasCinerascens' 'HypsiboasCordobae' ...\n",
      " 'AdenomeraHylaedactylus' 'AdenomeraHylaedactylus'\n",
      " 'AdenomeraHylaedactylus']\n"
     ]
    }
   ],
   "source": [
    "#Species\n",
    "clf = SVM_L1(x_train_scaler,y_train[\"Species\"])\n",
    "#find best c\n",
    "best_para = clf.best_params_\n",
    "bestc = best_para['C']\n",
    "#use best c  fit svc model and predict y\n",
    "svm_best = SVC(kernel=\"rbf\", C=bestc).fit(x_train_scaler,y_train[\"Species\"])\n",
    "best_score = clf.best_score_\n",
    "y_predict_Species_l1 = svm_best.predict(x_test_scaler)\n",
    "print(\"best_parameters:\", best_para, \"score:\",best_score)\n",
    "print(\"predict:\",y_predict_Species_l1)"
   ]
  },
  {
   "cell_type": "code",
   "execution_count": 145,
   "id": "5aa4c018",
   "metadata": {},
   "outputs": [
    {
     "data": {
      "text/html": [
       "<div>\n",
       "<style scoped>\n",
       "    .dataframe tbody tr th:only-of-type {\n",
       "        vertical-align: middle;\n",
       "    }\n",
       "\n",
       "    .dataframe tbody tr th {\n",
       "        vertical-align: top;\n",
       "    }\n",
       "\n",
       "    .dataframe thead th {\n",
       "        text-align: right;\n",
       "    }\n",
       "</style>\n",
       "<table border=\"1\" class=\"dataframe\">\n",
       "  <thead>\n",
       "    <tr style=\"text-align: right;\">\n",
       "      <th></th>\n",
       "      <th>Family</th>\n",
       "      <th>Genus</th>\n",
       "      <th>Species</th>\n",
       "    </tr>\n",
       "  </thead>\n",
       "  <tbody>\n",
       "    <tr>\n",
       "      <th>0</th>\n",
       "      <td>Leptodactylidae</td>\n",
       "      <td>Adenomera</td>\n",
       "      <td>AdenomeraHylaedactylus</td>\n",
       "    </tr>\n",
       "    <tr>\n",
       "      <th>1</th>\n",
       "      <td>Hylidae</td>\n",
       "      <td>Hypsiboas</td>\n",
       "      <td>HypsiboasCinerascens</td>\n",
       "    </tr>\n",
       "    <tr>\n",
       "      <th>2</th>\n",
       "      <td>Hylidae</td>\n",
       "      <td>Hypsiboas</td>\n",
       "      <td>HypsiboasCordobae</td>\n",
       "    </tr>\n",
       "    <tr>\n",
       "      <th>3</th>\n",
       "      <td>Leptodactylidae</td>\n",
       "      <td>Adenomera</td>\n",
       "      <td>AdenomeraHylaedactylus</td>\n",
       "    </tr>\n",
       "    <tr>\n",
       "      <th>4</th>\n",
       "      <td>Leptodactylidae</td>\n",
       "      <td>Adenomera</td>\n",
       "      <td>AdenomeraHylaedactylus</td>\n",
       "    </tr>\n",
       "    <tr>\n",
       "      <th>...</th>\n",
       "      <td>...</td>\n",
       "      <td>...</td>\n",
       "      <td>...</td>\n",
       "    </tr>\n",
       "    <tr>\n",
       "      <th>2154</th>\n",
       "      <td>Leptodactylidae</td>\n",
       "      <td>Adenomera</td>\n",
       "      <td>AdenomeraHylaedactylus</td>\n",
       "    </tr>\n",
       "    <tr>\n",
       "      <th>2155</th>\n",
       "      <td>Leptodactylidae</td>\n",
       "      <td>Adenomera</td>\n",
       "      <td>AdenomeraAndre</td>\n",
       "    </tr>\n",
       "    <tr>\n",
       "      <th>2156</th>\n",
       "      <td>Leptodactylidae</td>\n",
       "      <td>Adenomera</td>\n",
       "      <td>AdenomeraHylaedactylus</td>\n",
       "    </tr>\n",
       "    <tr>\n",
       "      <th>2157</th>\n",
       "      <td>Leptodactylidae</td>\n",
       "      <td>Adenomera</td>\n",
       "      <td>AdenomeraHylaedactylus</td>\n",
       "    </tr>\n",
       "    <tr>\n",
       "      <th>2158</th>\n",
       "      <td>Leptodactylidae</td>\n",
       "      <td>Adenomera</td>\n",
       "      <td>AdenomeraHylaedactylus</td>\n",
       "    </tr>\n",
       "  </tbody>\n",
       "</table>\n",
       "<p>2159 rows × 3 columns</p>\n",
       "</div>"
      ],
      "text/plain": [
       "               Family      Genus                 Species\n",
       "0     Leptodactylidae  Adenomera  AdenomeraHylaedactylus\n",
       "1             Hylidae  Hypsiboas    HypsiboasCinerascens\n",
       "2             Hylidae  Hypsiboas       HypsiboasCordobae\n",
       "3     Leptodactylidae  Adenomera  AdenomeraHylaedactylus\n",
       "4     Leptodactylidae  Adenomera  AdenomeraHylaedactylus\n",
       "...               ...        ...                     ...\n",
       "2154  Leptodactylidae  Adenomera  AdenomeraHylaedactylus\n",
       "2155  Leptodactylidae  Adenomera          AdenomeraAndre\n",
       "2156  Leptodactylidae  Adenomera  AdenomeraHylaedactylus\n",
       "2157  Leptodactylidae  Adenomera  AdenomeraHylaedactylus\n",
       "2158  Leptodactylidae  Adenomera  AdenomeraHylaedactylus\n",
       "\n",
       "[2159 rows x 3 columns]"
      ]
     },
     "execution_count": 145,
     "metadata": {},
     "output_type": "execute_result"
    }
   ],
   "source": [
    "d ={\"Family\":y_predict_l1, \"Genus\":y_predict_Genus_l1,\"Species\":y_predict_Species_l1}\n",
    "df_y_predict_l1= pd.DataFrame(data=d)\n",
    "df_y_predict_l1"
   ]
  },
  {
   "cell_type": "code",
   "execution_count": 153,
   "id": "2b39dfca",
   "metadata": {},
   "outputs": [
    {
     "name": "stdout",
     "output_type": "stream",
     "text": [
      "hamming loss (L1 penalty): 0.010344295198394304 exact match(L1 penalty): 0.9865678554886521\n"
     ]
    }
   ],
   "source": [
    "hamming = 0\n",
    "exact_match = 0\n",
    "\n",
    "for index in range(len(y_test)):\n",
    "    if df_y_predict_l1['Family'][index] == y_test['Family'][index] and df_y_predict_l1['Genus'][index] == y_test['Genus'][index] and df_y_predict_l1['Species'][index] == y_test['Species'][index]:   \n",
    "        exact_match +=1\n",
    "        hamming += 3 \n",
    "    elif df_y_predict_l1['Family'][index] == y_test['Family'][index] or df_y_predict_l1['Genus'][index] == y_test['Genus'][index] or df_y_predict_l1['Species'][index] == y_test['Species'][index]:\n",
    "        hamming+=1\n",
    "hamming_loss_l1 = 1- (hamming/(len(y_test)*3))\n",
    "exact_match_l1 =exact_match/len(y_test)\n",
    "print('hamming loss (L1 penalty):', hamming_loss_l1, 'exact match(L1 penalty):',exact_match_l1)"
   ]
  },
  {
   "cell_type": "markdown",
   "id": "99a23808",
   "metadata": {},
   "source": [
    "iv. Repeat 1(b)iii by using SMOTE or any other method you know to remedy class imbalance. Report your conclusions about the classifiers you trained."
   ]
  },
  {
   "cell_type": "code",
   "execution_count": 147,
   "id": "c766b039",
   "metadata": {},
   "outputs": [
    {
     "name": "stdout",
     "output_type": "stream",
     "text": [
      "best_parameters: {'C': 31.622776601683793} score: 0.9620760114425828\n",
      "predict: ['AdenomeraHylaedactylus' 'HypsiboasCinerascens' 'HypsiboasCordobae' ...\n",
      " 'AdenomeraHylaedactylus' 'AdenomeraHylaedactylus'\n",
      " 'AdenomeraHylaedactylus']\n"
     ]
    }
   ],
   "source": [
    "from imblearn.over_sampling import SMOTE\n",
    "x_train_SMOTE_family, y_train_SMOTE_family = SMOTE().fit_resample(x_train_scaler, y_train[\"Family\"])\n",
    "x_train_SMOTE_genus, y_train_SMOTE_genus = SMOTE().fit_resample(x_train_scaler, y_train[\"Genus\"])\n",
    "x_train_SMOTE_species, y_train_SMOTE_species = SMOTE().fit_resample(x_train_scaler, y_train[\"Species\"])\n",
    "#Specis\n",
    "c =np.logspace(-3,6,5)\n",
    "param_grid = {'C':c}\n",
    "svc = LinearSVC(penalty='l1',dual=False, random_state=42)\n",
    "clf = GridSearchCV(estimator=svc, param_grid=param_grid , cv=10)\n",
    "clf.fit(x_train_SMOTE_species, y_train_SMOTE_species)\n",
    "#find best c\n",
    "best_para = clf.best_params_\n",
    "bestc = best_para['C']\n",
    "#use best c  fit svc model and predict y\n",
    "svm_best = SVC(kernel=\"rbf\", C=bestc).fit(x_train_SMOTE_species, y_train_SMOTE_species)\n",
    "best_score = clf.best_score_\n",
    "y_predict_s_l1 = svm_best.predict(x_test_scaler)\n",
    "print(\"best_parameters:\", best_para, \"score:\",best_score)\n",
    "print(\"predict:\",y_predict_s_l1)\n"
   ]
  },
  {
   "cell_type": "code",
   "execution_count": 155,
   "id": "587ca35e",
   "metadata": {},
   "outputs": [
    {
     "name": "stdout",
     "output_type": "stream",
     "text": [
      "best_parameters: {'C': 31.622776601683793} score: 0.9515142193732758\n",
      "predict: ['Leptodactylidae' 'Hylidae' 'Hylidae' ... 'Leptodactylidae'\n",
      " 'Leptodactylidae' 'Leptodactylidae']\n"
     ]
    }
   ],
   "source": [
    "#family \n",
    "clf.fit(x_train_SMOTE_family, y_train_SMOTE_family)\n",
    "#find best c\n",
    "best_para = clf.best_params_\n",
    "bestc = best_para['C']\n",
    "#use best c  fit svc model and predict y\n",
    "svm_best = SVC(kernel=\"rbf\", C=bestc).fit(x_train_SMOTE_family, y_train_SMOTE_family)\n",
    "best_score = clf.best_score_\n",
    "y_predict_family_l1 = svm_best.predict(x_test_scaler)\n",
    "print(\"best_parameters:\", best_para, \"score:\",best_score)\n",
    "print(\"predict:\",y_predict_family_l1)"
   ]
  },
  {
   "cell_type": "code",
   "execution_count": 156,
   "id": "4d013708",
   "metadata": {},
   "outputs": [
    {
     "name": "stdout",
     "output_type": "stream",
     "text": [
      "best_parameters: {'C': 31.622776601683793} score: 0.9584777363905369\n",
      "predict: ['Adenomera' 'Hypsiboas' 'Hypsiboas' ... 'Adenomera' 'Adenomera'\n",
      " 'Adenomera']\n"
     ]
    }
   ],
   "source": [
    "x_train_SMOTE_genus, y_train_SMOTE_genus\n",
    "#family \n",
    "clf.fit(x_train_SMOTE_genus, y_train_SMOTE_genus)\n",
    "#find best c\n",
    "best_para = clf.best_params_\n",
    "bestc = best_para['C']\n",
    "#use best c  fit svc model and predict y\n",
    "svm_best = SVC(kernel=\"rbf\", C=bestc).fit(x_train_SMOTE_genus, y_train_SMOTE_genus)\n",
    "best_score = clf.best_score_\n",
    "y_predict_g_l1 = svm_best.predict(x_test_scaler)\n",
    "print(\"best_parameters:\", best_para, \"score:\",best_score)\n",
    "print(\"predict:\",y_predict_g_l1)"
   ]
  },
  {
   "cell_type": "code",
   "execution_count": 157,
   "id": "f82506a6",
   "metadata": {},
   "outputs": [
    {
     "data": {
      "text/html": [
       "<div>\n",
       "<style scoped>\n",
       "    .dataframe tbody tr th:only-of-type {\n",
       "        vertical-align: middle;\n",
       "    }\n",
       "\n",
       "    .dataframe tbody tr th {\n",
       "        vertical-align: top;\n",
       "    }\n",
       "\n",
       "    .dataframe thead th {\n",
       "        text-align: right;\n",
       "    }\n",
       "</style>\n",
       "<table border=\"1\" class=\"dataframe\">\n",
       "  <thead>\n",
       "    <tr style=\"text-align: right;\">\n",
       "      <th></th>\n",
       "      <th>Family</th>\n",
       "      <th>Genus</th>\n",
       "      <th>Species</th>\n",
       "    </tr>\n",
       "  </thead>\n",
       "  <tbody>\n",
       "    <tr>\n",
       "      <th>0</th>\n",
       "      <td>Leptodactylidae</td>\n",
       "      <td>Adenomera</td>\n",
       "      <td>AdenomeraHylaedactylus</td>\n",
       "    </tr>\n",
       "    <tr>\n",
       "      <th>1</th>\n",
       "      <td>Hylidae</td>\n",
       "      <td>Hypsiboas</td>\n",
       "      <td>HypsiboasCinerascens</td>\n",
       "    </tr>\n",
       "    <tr>\n",
       "      <th>2</th>\n",
       "      <td>Hylidae</td>\n",
       "      <td>Hypsiboas</td>\n",
       "      <td>HypsiboasCordobae</td>\n",
       "    </tr>\n",
       "    <tr>\n",
       "      <th>3</th>\n",
       "      <td>Leptodactylidae</td>\n",
       "      <td>Adenomera</td>\n",
       "      <td>AdenomeraHylaedactylus</td>\n",
       "    </tr>\n",
       "    <tr>\n",
       "      <th>4</th>\n",
       "      <td>Leptodactylidae</td>\n",
       "      <td>Adenomera</td>\n",
       "      <td>AdenomeraHylaedactylus</td>\n",
       "    </tr>\n",
       "    <tr>\n",
       "      <th>...</th>\n",
       "      <td>...</td>\n",
       "      <td>...</td>\n",
       "      <td>...</td>\n",
       "    </tr>\n",
       "    <tr>\n",
       "      <th>2154</th>\n",
       "      <td>Leptodactylidae</td>\n",
       "      <td>Adenomera</td>\n",
       "      <td>AdenomeraHylaedactylus</td>\n",
       "    </tr>\n",
       "    <tr>\n",
       "      <th>2155</th>\n",
       "      <td>Leptodactylidae</td>\n",
       "      <td>Adenomera</td>\n",
       "      <td>AdenomeraAndre</td>\n",
       "    </tr>\n",
       "    <tr>\n",
       "      <th>2156</th>\n",
       "      <td>Leptodactylidae</td>\n",
       "      <td>Adenomera</td>\n",
       "      <td>AdenomeraHylaedactylus</td>\n",
       "    </tr>\n",
       "    <tr>\n",
       "      <th>2157</th>\n",
       "      <td>Leptodactylidae</td>\n",
       "      <td>Adenomera</td>\n",
       "      <td>AdenomeraHylaedactylus</td>\n",
       "    </tr>\n",
       "    <tr>\n",
       "      <th>2158</th>\n",
       "      <td>Leptodactylidae</td>\n",
       "      <td>Adenomera</td>\n",
       "      <td>AdenomeraHylaedactylus</td>\n",
       "    </tr>\n",
       "  </tbody>\n",
       "</table>\n",
       "<p>2159 rows × 3 columns</p>\n",
       "</div>"
      ],
      "text/plain": [
       "               Family      Genus                 Species\n",
       "0     Leptodactylidae  Adenomera  AdenomeraHylaedactylus\n",
       "1             Hylidae  Hypsiboas    HypsiboasCinerascens\n",
       "2             Hylidae  Hypsiboas       HypsiboasCordobae\n",
       "3     Leptodactylidae  Adenomera  AdenomeraHylaedactylus\n",
       "4     Leptodactylidae  Adenomera  AdenomeraHylaedactylus\n",
       "...               ...        ...                     ...\n",
       "2154  Leptodactylidae  Adenomera  AdenomeraHylaedactylus\n",
       "2155  Leptodactylidae  Adenomera          AdenomeraAndre\n",
       "2156  Leptodactylidae  Adenomera  AdenomeraHylaedactylus\n",
       "2157  Leptodactylidae  Adenomera  AdenomeraHylaedactylus\n",
       "2158  Leptodactylidae  Adenomera  AdenomeraHylaedactylus\n",
       "\n",
       "[2159 rows x 3 columns]"
      ]
     },
     "execution_count": 157,
     "metadata": {},
     "output_type": "execute_result"
    }
   ],
   "source": [
    "d ={\"Family\":y_predict_family_l1, \"Genus\":y_predict_g_l1,\"Species\":y_predict_s_l1}\n",
    "df_y_predict_sm= pd.DataFrame(data=d)\n",
    "df_y_predict_sm"
   ]
  },
  {
   "cell_type": "code",
   "execution_count": 160,
   "id": "228fa6be",
   "metadata": {},
   "outputs": [
    {
     "name": "stdout",
     "output_type": "stream",
     "text": [
      "hamming loss(smote): 0.009109155473212893 exact match(smote): 0.9879573876794813\n"
     ]
    }
   ],
   "source": [
    "hamming_loss_sm, exact_match_sm =hamming_match(y_test,df_y_predict_sm)\n",
    "print(\"hamming loss(smote):\", hamming_loss_sm, \"exact match(smote):\", exact_match_sm)"
   ]
  },
  {
   "cell_type": "code",
   "execution_count": 161,
   "id": "4d62ec7a",
   "metadata": {},
   "outputs": [
    {
     "data": {
      "text/html": [
       "<div>\n",
       "<style scoped>\n",
       "    .dataframe tbody tr th:only-of-type {\n",
       "        vertical-align: middle;\n",
       "    }\n",
       "\n",
       "    .dataframe tbody tr th {\n",
       "        vertical-align: top;\n",
       "    }\n",
       "\n",
       "    .dataframe thead th {\n",
       "        text-align: right;\n",
       "    }\n",
       "</style>\n",
       "<table border=\"1\" class=\"dataframe\">\n",
       "  <thead>\n",
       "    <tr style=\"text-align: right;\">\n",
       "      <th></th>\n",
       "      <th>hamming loss</th>\n",
       "      <th>exact match</th>\n",
       "    </tr>\n",
       "  </thead>\n",
       "  <tbody>\n",
       "    <tr>\n",
       "      <th>Gaussian</th>\n",
       "      <td>0.219083</td>\n",
       "      <td>2130.000000</td>\n",
       "    </tr>\n",
       "    <tr>\n",
       "      <th>L1</th>\n",
       "      <td>0.010344</td>\n",
       "      <td>0.986568</td>\n",
       "    </tr>\n",
       "    <tr>\n",
       "      <th>SMOTE L1</th>\n",
       "      <td>0.009109</td>\n",
       "      <td>0.987957</td>\n",
       "    </tr>\n",
       "  </tbody>\n",
       "</table>\n",
       "</div>"
      ],
      "text/plain": [
       "          hamming loss  exact match\n",
       "Gaussian      0.219083  2130.000000\n",
       "L1            0.010344     0.986568\n",
       "SMOTE L1      0.009109     0.987957"
      ]
     },
     "execution_count": 161,
     "metadata": {},
     "output_type": "execute_result"
    }
   ],
   "source": [
    "conclusion =pd.DataFrame()\n",
    "conclusion['hamming loss'] = [hamming_loss,hamming_loss_l1,hamming_loss_sm]\n",
    "conclusion['exact match'] = [exact_match,exact_match_l1,exact_match_sm]\n",
    "conclusion.index = ['Gaussian', 'L1','SMOTE L1']\n",
    "conclusion"
   ]
  },
  {
   "cell_type": "markdown",
   "id": "a8babada",
   "metadata": {},
   "source": [
    "Conclusion ANS: From the result above, we could see that SVM with Gaussian Kernal has the lowest hamming loss and highest exact match comparing with the others. The second place is theL1-penalized SVMs (SMOTE) which's  hamming loss and exact match both improve from the original L1-penalized SVMs by resampling.  "
   ]
  },
  {
   "cell_type": "markdown",
   "id": "eb3e07df",
   "metadata": {},
   "source": [
    "2.K-Means Clustering on a Multi-Class and Multi-Label Data Set \n",
    "\n",
    "Monte-Carlo Simulation:Perform the following procedures 50 times, and report the average and standard deviation of the 50 Hamming Distances that you calculate."
   ]
  },
  {
   "cell_type": "markdown",
   "id": "2f7cdffc",
   "metadata": {},
   "source": [
    "(a)Use k-means clustering on the whole Anuran Calls (MFCCs) Data Set (do not splitthe data into train and test, as we are not performing supervised learning in thisexercise). Choose k∈ {1,2, . . . ,50} automatically based on one of the methods provided in the slides (CH or Gap Statistics or scree plots or Silhouettes) or any other method you know."
   ]
  },
  {
   "cell_type": "code",
   "execution_count": 177,
   "id": "f25ce831",
   "metadata": {},
   "outputs": [],
   "source": [
    "x = df.iloc[:, :22]\n",
    "y = df.iloc[:, 22:-1]"
   ]
  },
  {
   "cell_type": "code",
   "execution_count": 180,
   "id": "bdeb1d62",
   "metadata": {},
   "outputs": [],
   "source": [
    "from sklearn.metrics import silhouette_score\n",
    "#for k in range(2,51):\n",
    "x = df.iloc[:, :22]\n",
    "y = df.iloc[:, 22:-1]\n",
    "find_best = []\n",
    "for k in range(2, 51):\n",
    "    kmeans = KMeans(n_clusters = k, random_state = 42).fit(x)\n",
    "    score = silhouette_score(x, kmeans.labels_)\n",
    "    find_best.append([score,k])\n",
    "sort_find = find_best.sort()"
   ]
  },
  {
   "cell_type": "code",
   "execution_count": 181,
   "id": "845160ca",
   "metadata": {},
   "outputs": [
    {
     "name": "stdout",
     "output_type": "stream",
     "text": [
      "best score: 0.3787509343305295 best k: 4\n"
     ]
    }
   ],
   "source": [
    "print(\"best score:\",find_best[-1][0],\"best k:\",find_best[-1][1])"
   ]
  },
  {
   "cell_type": "markdown",
   "id": "8defd265",
   "metadata": {},
   "source": [
    "(b)In each cluster, determine which family is the majority by reading the true labels. Repeat for genus and species."
   ]
  },
  {
   "cell_type": "code",
   "execution_count": 230,
   "id": "e0a8ab7b",
   "metadata": {},
   "outputs": [
    {
     "name": "stdout",
     "output_type": "stream",
     "text": [
      "Counter({'Leptodactylidae': 3467, 'Hylidae': 101}) Counter({'Hylidae': 1245, 'Leptodactylidae': 629, 'Bufonidae': 66, 'Dendrobatidae': 42}) Counter({'Hylidae': 590, 'Leptodactylidae': 22, 'Bufonidae': 2}) Counter({'Dendrobatidae': 500, 'Leptodactylidae': 302, 'Hylidae': 229})\n"
     ]
    }
   ],
   "source": [
    "from collections import defaultdict\n",
    "from collections import Counter\n",
    "kmeans = KMeans(n_clusters = 4, random_state = 42).fit(x)\n",
    "c1,c2,c3,c0=[],[],[],[]\n",
    "cluster = kmeans.labels_\n",
    "y_fam  = y.copy()\n",
    "y_fam['cluster'] = cluster\n",
    "for index, row  in y_fam.iterrows():\n",
    "    if row['cluster'] == 0:\n",
    "        c0.append(row['Family'])\n",
    "    elif row['cluster'] == 1:\n",
    "        c1.append(row['Family'])\n",
    "    elif row['cluster'] == 2:\n",
    "        c2.append(row['Family'])\n",
    "    elif row['cluster'] == 3:\n",
    "        c3.append(row['Family'])\n",
    "c0_c,c1_c,c2_c,c3_c = Counter(c0),Counter(c1),Counter(c2),Counter(c3)\n",
    "print(c0_c,c1_c,c2_c,c3_c)"
   ]
  },
  {
   "cell_type": "code",
   "execution_count": 231,
   "id": "add4a6c6",
   "metadata": {
    "scrolled": true
   },
   "outputs": [
    {
     "name": "stdout",
     "output_type": "stream",
     "text": [
      "Counter({'Adenomera': 3466, 'Dendropsophus': 86, 'Hypsiboas': 12, 'Scinax': 3, 'Leptodactylus': 1}) Counter({'Hypsiboas': 1038, 'Adenomera': 376, 'Leptodactylus': 253, 'Scinax': 96, 'Osteocephalus': 76, 'Rhinella': 66, 'Ameerega': 42, 'Dendropsophus': 35}) Counter({'Hypsiboas': 542, 'Osteocephalus': 38, 'Adenomera': 12, 'Leptodactylus': 10, 'Scinax': 10, 'Rhinella': 2}) Counter({'Ameerega': 500, 'Adenomera': 296, 'Dendropsophus': 189, 'Scinax': 39, 'Leptodactylus': 6, 'Hypsiboas': 1})\n"
     ]
    }
   ],
   "source": [
    "#Genus\n",
    "c1,c2,c3,c0=[],[],[],[]\n",
    "cluster = kmeans.labels_\n",
    "y_fam  = y.copy()\n",
    "y_fam['cluster'] = cluster\n",
    "for index, row  in y_fam.iterrows():\n",
    "    if row['cluster'] == 0:\n",
    "        c0.append(row['Genus'])\n",
    "    elif row['cluster'] == 1:\n",
    "        c1.append(row['Genus'])\n",
    "    elif row['cluster'] == 2:\n",
    "        c2.append(row['Genus'])\n",
    "    elif row['cluster'] == 3:\n",
    "        c3.append(row['Genus'])\n",
    "c0_c,c1_c,c2_c,c3_c = Counter(c0),Counter(c1),Counter(c2),Counter(c3)\n",
    "print(c0_c,c1_c,c2_c,c3_c)"
   ]
  },
  {
   "cell_type": "code",
   "execution_count": 232,
   "id": "6ec8f737",
   "metadata": {},
   "outputs": [
    {
     "name": "stdout",
     "output_type": "stream",
     "text": [
      "Counter({'AdenomeraHylaedactylus': 3466, 'HylaMinuta': 86, 'HypsiboasCordobae': 12, 'ScinaxRuber': 3, 'LeptodactylusFuscus': 1}) Counter({'HypsiboasCordobae': 1018, 'AdenomeraAndre': 370, 'LeptodactylusFuscus': 253, 'ScinaxRuber': 96, 'OsteocephalusOophagus': 76, 'Rhinellagranulosa': 66, 'Ameeregatrivittata': 42, 'HylaMinuta': 35, 'HypsiboasCinerascens': 20, 'AdenomeraHylaedactylus': 6}) Counter({'HypsiboasCinerascens': 452, 'HypsiboasCordobae': 90, 'OsteocephalusOophagus': 38, 'LeptodactylusFuscus': 10, 'ScinaxRuber': 10, 'AdenomeraAndre': 6, 'AdenomeraHylaedactylus': 6, 'Rhinellagranulosa': 2}) Counter({'Ameeregatrivittata': 500, 'AdenomeraAndre': 296, 'HylaMinuta': 189, 'ScinaxRuber': 39, 'LeptodactylusFuscus': 6, 'HypsiboasCordobae': 1})\n"
     ]
    }
   ],
   "source": [
    "#Species\n",
    "c1,c2,c3,c0=[],[],[],[]\n",
    "cluster = kmeans.labels_\n",
    "y_fam  = y.copy()\n",
    "y_fam['cluster'] = cluster\n",
    "for index, row  in y_fam.iterrows():\n",
    "    if row['cluster'] == 0:\n",
    "        c0.append(row['Species'])\n",
    "    elif row['cluster'] == 1:\n",
    "        c1.append(row['Species'])\n",
    "    elif row['cluster'] == 2:\n",
    "        c2.append(row['Species'])\n",
    "    elif row['cluster'] == 3:\n",
    "        c3.append(row['Species'])\n",
    "c0_c,c1_c,c2_c,c3_c = Counter(c0),Counter(c1),Counter(c2),Counter(c3)\n",
    "print(c0_c,c1_c,c2_c,c3_c)"
   ]
  },
  {
   "cell_type": "code",
   "execution_count": 237,
   "id": "ffd56be0",
   "metadata": {},
   "outputs": [
    {
     "data": {
      "text/html": [
       "<div>\n",
       "<style scoped>\n",
       "    .dataframe tbody tr th:only-of-type {\n",
       "        vertical-align: middle;\n",
       "    }\n",
       "\n",
       "    .dataframe tbody tr th {\n",
       "        vertical-align: top;\n",
       "    }\n",
       "\n",
       "    .dataframe thead th {\n",
       "        text-align: right;\n",
       "    }\n",
       "</style>\n",
       "<table border=\"1\" class=\"dataframe\">\n",
       "  <thead>\n",
       "    <tr style=\"text-align: right;\">\n",
       "      <th></th>\n",
       "      <th>Family Majority</th>\n",
       "      <th>Genus Majority</th>\n",
       "      <th>Sepcies Majority</th>\n",
       "    </tr>\n",
       "  </thead>\n",
       "  <tbody>\n",
       "    <tr>\n",
       "      <th>0</th>\n",
       "      <td>Leptodactylidae</td>\n",
       "      <td>Adenomera</td>\n",
       "      <td>AdenomeraHylaedactylus</td>\n",
       "    </tr>\n",
       "    <tr>\n",
       "      <th>1</th>\n",
       "      <td>Hylidae</td>\n",
       "      <td>Hypsiboas</td>\n",
       "      <td>AHypsiboasCinerascen</td>\n",
       "    </tr>\n",
       "    <tr>\n",
       "      <th>2</th>\n",
       "      <td>Hylidae</td>\n",
       "      <td>Hypsiboas</td>\n",
       "      <td>HypsiboasCinerascens</td>\n",
       "    </tr>\n",
       "    <tr>\n",
       "      <th>3</th>\n",
       "      <td>Dendrobatidae</td>\n",
       "      <td>Ameerega</td>\n",
       "      <td>Ameeregatrivittata</td>\n",
       "    </tr>\n",
       "  </tbody>\n",
       "</table>\n",
       "</div>"
      ],
      "text/plain": [
       "   Family Majority Genus Majority        Sepcies Majority\n",
       "0  Leptodactylidae      Adenomera  AdenomeraHylaedactylus\n",
       "1          Hylidae      Hypsiboas    AHypsiboasCinerascen\n",
       "2          Hylidae      Hypsiboas    HypsiboasCinerascens\n",
       "3    Dendrobatidae       Ameerega      Ameeregatrivittata"
      ]
     },
     "execution_count": 237,
     "metadata": {},
     "output_type": "execute_result"
    }
   ],
   "source": [
    "s_df = pd.DataFrame()\n",
    "s_df['Family Majority'] = ['Leptodactylidae', 'Hylidae','Hylidae','Dendrobatidae']\n",
    "s_df['Genus Majority'] =['Adenomera','Hypsiboas','Hypsiboas','Ameerega']\n",
    "s_df['Sepcies Majority'] = ['AdenomeraHylaedactylus','AHypsiboasCinerascen','HypsiboasCinerascens','Ameeregatrivittata' ]\n",
    "\n",
    "#s_df.index=['cluster 0','cluster 1','cluster 2','cluster 3']\n",
    "\n",
    "s_df"
   ]
  },
  {
   "cell_type": "markdown",
   "id": "03f3ec25",
   "metadata": {},
   "source": [
    "(c)Now for each cluster you have a majority label triplet (family, genus, species). Calculate the average Hamming distance, Hamming score, and Hamming loss between the true labels and the labels assigned by clusters."
   ]
  },
  {
   "cell_type": "code",
   "execution_count": 269,
   "id": "354e833f",
   "metadata": {},
   "outputs": [
    {
     "name": "stdout",
     "output_type": "stream",
     "text": [
      "1393 1649 2777\n"
     ]
    }
   ],
   "source": [
    "#hamming_dis\n",
    "#hamming_score\n",
    "#hamming_loss\n",
    "cluster = kmeans.labels_\n",
    "\n",
    "def findhamming(label,i):\n",
    "    hamming = 0\n",
    "    dist = 0\n",
    "    for index,row in y_fam.iterrows():\n",
    "        if row['cluster'] == 0:\n",
    "            if row[label] != s_df.loc[0][i]:\n",
    "                hamming+=1 \n",
    "\n",
    "        elif row['cluster'] == 1:\n",
    "            if row[label] != s_df.loc[1][i]:\n",
    "                hamming+=1 \n",
    "\n",
    "        elif row['cluster'] == 2:\n",
    "            if row[label] != s_df.loc[2][i]:\n",
    "                hamming+=1 \n",
    "\n",
    "        elif row['cluster'] == 3:\n",
    "            if row[label] != s_df.loc[3][i]:\n",
    "                hamming+=1 \n",
    "\n",
    "    return hamming\n",
    "\n",
    "h_f = findhamming('Family',0)\n",
    "\n",
    "h_g = findhamming('Genus',1)\n",
    "\n",
    "h_s = findhamming('Species',2)\n",
    "print(h_f,h_g,h_s)"
   ]
  },
  {
   "cell_type": "code",
   "execution_count": 282,
   "id": "fba1b55a",
   "metadata": {},
   "outputs": [
    {
     "name": "stdout",
     "output_type": "stream",
     "text": [
      "hamming score: 0.26958536020384527 hamming loss: 0.7304146397961547 hamming distance: 0.8087560806115358\n"
     ]
    }
   ],
   "source": [
    "hamming = h_f+h_g+h_s\n",
    "hamming_score = hamming / (len(y_fam)*3)\n",
    "hamming_loss = 1 - hamming_score\n",
    "dist = hamming/len(y_fam)\n",
    "\n",
    "print('hamming score:',hamming_score,'hamming loss:',hamming_loss, 'hamming distance:',dist)"
   ]
  },
  {
   "cell_type": "markdown",
   "id": "47f0c1f9",
   "metadata": {},
   "source": [
    "ISLR 12.6.2"
   ]
  },
  {
   "attachments": {
    "IMG_1721.jpg": {
     "image/jpeg": "[encoded data removed]"
    }
   },
   "cell_type": "markdown",
   "id": "0ba85fb9",
   "metadata": {},
   "source": [
    "![IMG_1721.jpg](attachment:IMG_1721.jpg)"
   ]
  },
  {
   "cell_type": "code",
   "execution_count": null,
   "id": "6e35b19f",
   "metadata": {},
   "outputs": [],
   "source": []
  }
 ],
 "metadata": {
  "kernelspec": {
   "display_name": "Python 3 (ipykernel)",
   "language": "python",
   "name": "python3"
  },
  "language_info": {
   "codemirror_mode": {
    "name": "ipython",
    "version": 3
   },
   "file_extension": ".py",
   "mimetype": "text/x-python",
   "name": "python",
   "nbconvert_exporter": "python",
   "pygments_lexer": "ipython3",
   "version": "3.10.6"
  }
 },
 "nbformat": 4,
 "nbformat_minor": 5
}
